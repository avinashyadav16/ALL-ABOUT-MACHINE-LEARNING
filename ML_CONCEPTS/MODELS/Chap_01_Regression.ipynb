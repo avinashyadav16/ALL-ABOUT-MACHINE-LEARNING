{
 "cells": [
  {
   "cell_type": "markdown",
   "metadata": {},
   "source": [
    "> # LECTURE - 01\n",
    ">\n",
    "> ### INTRODUCTION TO LINEAR REGRESSION: STOCK PREDICTION<br><br>\n"
   ]
  },
  {
   "cell_type": "markdown",
   "metadata": {},
   "source": [
    "<pre>\n",
    "- The Idea of the regression is to take continuous data and \n",
    "  figure out the best fit line for that data.\n",
    "\n",
    "- With Linear Regression, we try to model our data with a straight line.\n",
    "\n",
    "- Equation of the stringht line is: y = mx + c\n",
    "    if we have x, we can figure out y given that we have m and c\n",
    "\n",
    "- Basically the whole point of the regresion is to find out what m and c is.\n",
    "</pre>\n"
   ]
  },
  {
   "cell_type": "markdown",
   "metadata": {},
   "source": [
    "<pre>\n",
    "- With ML, especially with Supervised ML, everything boils down to Features(are Attributes, in the below case it is continous data)\n",
    "  and Lebels.\n",
    "</pre>\n"
   ]
  },
  {
   "cell_type": "code",
   "execution_count": 1,
   "metadata": {},
   "outputs": [],
   "source": [
    "import math\n",
    "import quandl\n",
    "import datetime\n",
    "import numpy as np\n",
    "import pandas as pd\n",
    "from matplotlib import style\n",
    "import matplotlib.pyplot as plt\n",
    "from sklearn.linear_model import LinearRegression\n",
    "from sklearn import preprocessing, model_selection, svm"
   ]
  },
  {
   "cell_type": "code",
   "execution_count": 2,
   "metadata": {},
   "outputs": [],
   "source": [
    "style.use('ggplot')"
   ]
  },
  {
   "cell_type": "code",
   "execution_count": 3,
   "metadata": {},
   "outputs": [
    {
     "name": "stdout",
     "output_type": "stream",
     "text": [
      "              Open    High     Low    Close      Volume  Ex-Dividend  \\\n",
      "Date                                                                   \n",
      "2004-08-19  100.01  104.06   95.96  100.335  44659000.0          0.0   \n",
      "2004-08-20  101.01  109.08  100.50  108.310  22834300.0          0.0   \n",
      "2004-08-23  110.76  113.48  109.05  109.400  18256100.0          0.0   \n",
      "2004-08-24  111.24  111.60  103.57  104.870  15247300.0          0.0   \n",
      "2004-08-25  104.76  108.00  103.88  106.000   9188600.0          0.0   \n",
      "\n",
      "            Split Ratio  Adj. Open  Adj. High   Adj. Low  Adj. Close  \\\n",
      "Date                                                                   \n",
      "2004-08-19          1.0  50.159839  52.191109  48.128568   50.322842   \n",
      "2004-08-20          1.0  50.661387  54.708881  50.405597   54.322689   \n",
      "2004-08-23          1.0  55.551482  56.915693  54.693835   54.869377   \n",
      "2004-08-24          1.0  55.792225  55.972783  51.945350   52.597363   \n",
      "2004-08-25          1.0  52.542193  54.167209  52.100830   53.164113   \n",
      "\n",
      "            Adj. Volume  \n",
      "Date                     \n",
      "2004-08-19   44659000.0  \n",
      "2004-08-20   22834300.0  \n",
      "2004-08-23   18256100.0  \n",
      "2004-08-24   15247300.0  \n",
      "2004-08-25    9188600.0  \n"
     ]
    }
   ],
   "source": [
    "df = quandl.get('WIKI/GOOGL')\n",
    "print(df.head())"
   ]
  },
  {
   "cell_type": "markdown",
   "metadata": {},
   "source": [
    "<li>In Machine Learning, We can have all the features we want but we need to have only some meaningful features, features that actually have to do something with our data.</li>\n"
   ]
  },
  {
   "cell_type": "code",
   "execution_count": 4,
   "metadata": {},
   "outputs": [
    {
     "name": "stdout",
     "output_type": "stream",
     "text": [
      "<bound method NDFrame.head of               Adj. Open    Adj. High     Adj. Low   Adj. Close  Adj. Volume\n",
      "Date                                                                       \n",
      "2004-08-19    50.159839    52.191109    48.128568    50.322842   44659000.0\n",
      "2004-08-20    50.661387    54.708881    50.405597    54.322689   22834300.0\n",
      "2004-08-23    55.551482    56.915693    54.693835    54.869377   18256100.0\n",
      "2004-08-24    55.792225    55.972783    51.945350    52.597363   15247300.0\n",
      "2004-08-25    52.542193    54.167209    52.100830    53.164113    9188600.0\n",
      "...                 ...          ...          ...          ...          ...\n",
      "2018-03-21  1092.570000  1108.700000  1087.210000  1094.000000    1990515.0\n",
      "2018-03-22  1080.010000  1083.920000  1049.640000  1053.150000    3418154.0\n",
      "2018-03-23  1051.370000  1066.780000  1024.870000  1026.550000    2413517.0\n",
      "2018-03-26  1050.600000  1059.270000  1010.580000  1054.090000    3272409.0\n",
      "2018-03-27  1063.900000  1064.540000   997.620000  1006.940000    2940957.0\n",
      "\n",
      "[3424 rows x 5 columns]>\n"
     ]
    }
   ],
   "source": [
    "df = df[['Adj. Open', 'Adj. High', 'Adj. Low', 'Adj. Close', 'Adj. Volume']]\n",
    "print(df.head)"
   ]
  },
  {
   "cell_type": "code",
   "execution_count": 7,
   "metadata": {},
   "outputs": [],
   "source": [
    "# Percentage change in High to Low stock price:\n",
    "# This is almost percent votatility of the day\n",
    "# Therefore, we are gonna to define a new column: \"H2L_PerCng\"\n",
    "\n",
    "df['H2L_PerCng'] = (df['Adj. High'] - df['Adj. Close']) / (df['Adj. Close'] * 100.0)"
   ]
  },
  {
   "cell_type": "code",
   "execution_count": 8,
   "metadata": {},
   "outputs": [],
   "source": [
    "# (Features)\n",
    "# Daily Percentage change or the daily move in Close to Open stock price:\n",
    "# Normally the Percent Change is => ((New - Old) / (Old)) * 100\n",
    "\n",
    "df['Per_Cng'] = (df[\"Adj. Close\"] - df['Adj. Open']) / df['Adj. Open'] * 100.0"
   ]
  },
  {
   "cell_type": "code",
   "execution_count": 9,
   "metadata": {},
   "outputs": [
    {
     "name": "stdout",
     "output_type": "stream",
     "text": [
      "            Adj. Close  H2L_PerCng   Per_Cng  Adj. Volume\n",
      "Date                                                     \n",
      "2004-08-19   50.322842    0.000371  0.324968   44659000.0\n",
      "2004-08-20   54.322689    0.000071  7.227007   22834300.0\n",
      "2004-08-23   54.869377    0.000373 -1.227880   18256100.0\n",
      "2004-08-24   52.597363    0.000642 -5.726357   15247300.0\n",
      "2004-08-25   53.164113    0.000189  1.183658    9188600.0\n"
     ]
    }
   ],
   "source": [
    "# (Features)\n",
    "# Defining the new dataframe, we want to work with or we do really care about:\n",
    "\n",
    "df = df[['Adj. Close', 'H2L_PerCng', 'Per_Cng', 'Adj. Volume']]\n",
    "\n",
    "print(df.head())"
   ]
  },
  {
   "cell_type": "markdown",
   "metadata": {},
   "source": [
    "<br><br>\n",
    "\n",
    "> # LECTURE - 02\n",
    ">\n",
    "> ### Features and Labels:\n",
    ">\n",
    "> Usually we define features by capital X and labels by small y.<br><br>\n"
   ]
  },
  {
   "cell_type": "code",
   "execution_count": 10,
   "metadata": {},
   "outputs": [
    {
     "name": "stdout",
     "output_type": "stream",
     "text": [
      "forecast_out is: 35 \n",
      "\n",
      "\n",
      "dataframe head is:\n",
      "             Adj. Close  H2L_PerCng   Per_Cng  Adj. Volume      label\n",
      "Date                                                                \n",
      "2004-08-19   50.322842    0.000371  0.324968   44659000.0  69.078238\n",
      "2004-08-20   54.322689    0.000071  7.227007   22834300.0  67.839414\n",
      "2004-08-23   54.869377    0.000373 -1.227880   18256100.0  68.912727\n",
      "2004-08-24   52.597363    0.000642 -5.726357   15247300.0  70.668146\n",
      "2004-08-25   53.164113    0.000189  1.183658    9188600.0  71.219849\n",
      "\n",
      "\n",
      "dataframe tail is:\n",
      "             Adj. Close  H2L_PerCng   Per_Cng  Adj. Volume    label\n",
      "Date                                                              \n",
      "2018-01-30     1177.37    0.000090 -0.029718    1792602.0  1094.00\n",
      "2018-01-31     1182.22    0.000035 -0.134312    1643877.0  1053.15\n",
      "2018-02-01     1181.59    0.000050  0.476195    2774967.0  1026.55\n",
      "2018-02-02     1119.20    0.000108 -0.729098    5798880.0  1054.09\n",
      "2018-02-05     1068.76    0.000433 -2.893850    3742469.0  1006.94\n"
     ]
    }
   ],
   "source": [
    "# It is just a variable created to work with the stock prices:\n",
    "forecast_col = 'Adj. Close'\n",
    "\n",
    "\n",
    "# Just in case there is not missing data\n",
    "# In case of missing data and we can't get rid of it, so we fill that column with some specific values:\n",
    "df.fillna(-9999, inplace=True)\n",
    "# We did this because, with ML we can't work with NaN data,\n",
    "# therefore we actually have to replace the NaN with something, or\n",
    "# we can get rid of the entire column.\n",
    "\n",
    "\n",
    "# Actually we are trying to predict the 10% of the dataframe to predict the forecast out:\n",
    "forecast_out = int(math.ceil(0.01 * len(df)))\n",
    "print(f'forecast_out is: {forecast_out} \\n\\n')\n",
    "\n",
    "# Creating label:\n",
    "# Since we have forecast_out, so we can create labels\n",
    "# Here we are using forecast_out as minus that's why we made it as int data type\n",
    "# So, basically we are shifting the columns negativelly upwards.\n",
    "df['label'] = df[forecast_col].shift(-forecast_out)\n",
    "# This way, each row, the label column for each row will be adjusted close price 10 days into the future.\n",
    "# So, that's our label.\n",
    "\n",
    "\n",
    "# So, this will just print first five rows of the dataframes\n",
    "print(f'dataframe head is:\\n {df.head()}\\n\\n')\n",
    "\n",
    "df.dropna(inplace=True)\n",
    "\n",
    "print(f'dataframe tail is:\\n {df.tail()}')"
   ]
  },
  {
   "cell_type": "markdown",
   "metadata": {},
   "source": [
    "<br><br>\n",
    "\n",
    "> # LECTURE - 03\n",
    ">\n",
    "> ### Training and Testing: <br><br>\n"
   ]
  },
  {
   "cell_type": "markdown",
   "metadata": {},
   "source": [
    "<li>Scaling our data aspect is usually done on the features.</li>\n",
    "<li>The goal is often to get our features to be somewhere between -1 and +1</li>\n",
    "<li>This can actaully just help with accuracy as well as just processing speed or how long it might take to actually do the calculations.</li>\n",
    "<br>\n",
    "\n",
    "<li>Here, we are gonna to use cross-validation to create our training and testing samples. It's a good way to split up our data, suffle it up.</li>\n"
   ]
  },
  {
   "cell_type": "code",
   "execution_count": 16,
   "metadata": {},
   "outputs": [
    {
     "name": "stdout",
     "output_type": "stream",
     "text": [
      "3389 3389\n"
     ]
    }
   ],
   "source": [
    "# so, our features are basically everything, except for the label column.\n",
    "# We can do this beacause df.drop() return new dataframes and\n",
    "# it can be converted to numpy array and here it is being saved to the value of the X.\n",
    "X = np.array(df.drop(['label'], axis=1))\n",
    "\n",
    "\n",
    "# redefining X, this includes all the point because we have shifted\n",
    "# So, we are actually making sure that we only have X's where we have values for 'y'\n",
    "# X = X[:-forecast_out]\n",
    "# We actually don't need to do it again, as we have already droped it above.\n",
    "\n",
    "\n",
    "# Now, we are going to scale X\n",
    "X = preprocessing.scale(X)\n",
    "\n",
    "\n",
    "# Now we need to drop the missing data before creating the labels:\n",
    "# df.dropna(inplace=True)\n",
    "\n",
    "\n",
    "# Creating the labels:\n",
    "# Now the value of y is our labels :\n",
    "y = np.array(df['label'])\n",
    "\n",
    "\n",
    "print(len(X), len(y))"
   ]
  },
  {
   "cell_type": "code",
   "execution_count": 17,
   "metadata": {},
   "outputs": [
    {
     "name": "stdout",
     "output_type": "stream",
     "text": [
      "Linear Regression Model Accuracy is: 0.9782290061504728\n"
     ]
    }
   ],
   "source": [
    "# Since, we got our X's and 'y'\n",
    "# therefore we are now ready for creating our training and testing sets.\n",
    "# Creating training and testing set of data(hopefully here we are using 20% of total data)\n",
    "# X_test and y_test we used to fit our classifier.\n",
    "X_train, X_test, y_train, y_test = model_selection.train_test_split(\n",
    "    X, y, test_size=0.2)\n",
    "# We use, X_train and y_train, to fit our classifiers.\n",
    "\n",
    "\n",
    "# Stuff that is actually goinig to predict against:\n",
    "X_lately = X[-forecast_out:]\n",
    "X = X[:-forecast_out]\n",
    "# So, now we have X, we need to figure out what m and C would be for straight line\n",
    "# We get the answer for 'y'. We have done the linear regression.\n",
    "\n",
    "\n",
    "# Now we need to define the classifier\n",
    "clf = LinearRegression()\n",
    "\n",
    "\n",
    "# Now to fit or train our classifier, we just fit our classifier\n",
    "# fit is synonymous with train\n",
    "clf.fit(X_train, y_train)\n",
    "\n",
    "\n",
    "# Now we need to see out what the accuracy is\n",
    "# score is synonymous with test\n",
    "accuracy = clf.score(X_test, y_test)\n",
    "\n",
    "\n",
    "print(f'Linear Regression Model Accuracy is: {accuracy}')"
   ]
  },
  {
   "cell_type": "code",
   "execution_count": 18,
   "metadata": {},
   "outputs": [
    {
     "name": "stdout",
     "output_type": "stream",
     "text": [
      "SVM Model Accuracy is: 0.8056112850123274\n"
     ]
    }
   ],
   "source": [
    "# Switching The Algorithm From Linear Regression to SVM\n",
    "# Let's now we try to use a different algorithm: SVM, just for testing\n",
    "# Default value of kernel in the SVR() is 'linear', we can also use 'poly' as well:\n",
    "# clf = svm.SVR(kernel = 'poly')\n",
    "\n",
    "clf = svm.SVR()\n",
    "\n",
    "clf.fit(X_train, y_train)\n",
    "\n",
    "accuracy = clf.score(X_test, y_test)\n",
    "\n",
    "print(f'SVM Model Accuracy is: {accuracy}')"
   ]
  },
  {
   "cell_type": "markdown",
   "metadata": {},
   "source": [
    "<br><br>\n",
    "\n",
    "> # LECTURE - 04\n",
    ">\n",
    "> ### Forecasting and Predicting: <br><br>\n"
   ]
  },
  {
   "cell_type": "markdown",
   "metadata": {},
   "source": [
    "The parameter 'n_jobs' means that how many jobs or how many threads we are willing to run at any given time.\n",
    "\n",
    "And the default for regression is 1.\n",
    "\n",
    "'clf = LinearRegression()' => this is running in linealy. <br>\n",
    "'clf = LinearRegression(n_jobs = 10)' => this will run atleast 10 jobs at a time, parallelly. <br>\n",
    "\n",
    "'clf = LinearRegression(n_jobs = -1)' => this will run as many jobs as possible by our processor.\n"
   ]
  },
  {
   "cell_type": "code",
   "execution_count": 19,
   "metadata": {},
   "outputs": [
    {
     "name": "stdout",
     "output_type": "stream",
     "text": [
      "forecast_set is: \n",
      "[689.25423585 667.34496585 655.24028134 676.1846809  667.61699994\n",
      " 678.76252218 678.71042443 677.71677727 676.90412629 678.06835944\n",
      " 690.68359069 596.67910915 613.0813053  671.68908954 654.26446325\n",
      " 661.23048515 652.7018923  657.69512429 657.39201708 572.29403106\n",
      " 594.32177662 631.69576289 643.69180202 627.25563248 566.88800997\n",
      " 616.17461742 576.45094853 616.52071314 602.27176633 613.0043385\n",
      " 621.44790794 617.66271827 618.11022887 618.10147122 390.68960766]\n",
      "\n",
      " Accuracy is: 0.8056112850123274\n",
      "\n",
      " forecast_out is: 35\n",
      "\n",
      "\n"
     ]
    }
   ],
   "source": [
    "# Now, we need to predict based on the X data that we got.\n",
    "# The way we can do this, once we have a classifier doing a prediction becomes really easy.\n",
    "\n",
    "# here in the 'predict()' we can pass a single value or an array of value to make a prediction per value in that array\n",
    "forecast_set = clf.predict(X_lately)\n",
    "\n",
    "\n",
    "# printing the forecast set of last approx 30 days that what 'X_lately' returns.\n",
    "print(f'forecast_set is: \\n{forecast_set}\\n\\n Accuracy is: {accuracy}\\n\\n forecast_out is: {forecast_out}\\n\\n')\n",
    "# These are the next approx 30 to 35 days of unknown values for us."
   ]
  },
  {
   "cell_type": "code",
   "execution_count": 20,
   "metadata": {},
   "outputs": [],
   "source": [
    "# This specifies that the entire column is just full of a Not a Number Data:\n",
    "df['forecast'] = np.nan"
   ]
  },
  {
   "cell_type": "code",
   "execution_count": 21,
   "metadata": {},
   "outputs": [],
   "source": [
    "# Finding the last date and getting the name of that by hardcoding it:\n",
    "last_date = df.iloc[-1].name\n",
    "\n",
    "last_unix = last_date.timestamp()\n",
    "\n",
    "one_day = 86400\n",
    "\n",
    "# The next day\n",
    "next_unix = last_unix + one_day"
   ]
  },
  {
   "cell_type": "code",
   "execution_count": 22,
   "metadata": {},
   "outputs": [],
   "source": [
    "# Now that we got the dates and next we need to populate the dataframe with new dates and forecast values.\n",
    "\n",
    "for i in forecast_set:\n",
    "    next_date = datetime.datetime.fromtimestamp(next_unix)\n",
    "    next_unix += one_day\n",
    "    df.loc[next_date] = [np.nan for _ in range(len(df.columns) - 1)] + [i]\n",
    "\n",
    "# Here we are iterating through the forecast set, taking each forecast day and\n",
    "# then setting those as the values in the dataframe.\n",
    "# Basically making a future features and not a number."
   ]
  },
  {
   "cell_type": "code",
   "execution_count": 24,
   "metadata": {},
   "outputs": [
    {
     "data": {
      "image/png": "[encoded data removed]",
      "text/plain": [
       "<Figure size 640x480 with 1 Axes>"
      ]
     },
     "metadata": {},
     "output_type": "display_data"
    }
   ],
   "source": [
    "df['Adj. Close'].plot()\n",
    "df['forecast'].plot()\n",
    "plt.legend(loc=4)\n",
    "plt.xlabel('Date')\n",
    "plt.ylabel('Price')\n",
    "plt.show()"
   ]
  }
 ],
 "metadata": {
  "kernelspec": {
   "display_name": "Python 3",
   "language": "python",
   "name": "python3"
  },
  "language_info": {
   "codemirror_mode": {
    "name": "ipython",
    "version": 3
   },
   "file_extension": ".py",
   "mimetype": "text/x-python",
   "name": "python",
   "nbconvert_exporter": "python",
   "pygments_lexer": "ipython3",
   "version": "3.12.2"
  },
  "orig_nbformat": 4
 },
 "nbformat": 4,
 "nbformat_minor": 2
}
