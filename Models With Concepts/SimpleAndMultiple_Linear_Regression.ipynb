{
  "cells": [
    {
      "cell_type": "markdown",
      "metadata": {
        "id": "F5jcGTEYW3ee"
      },
      "source": [
        "# 1. Implement simple linear regression to predict house prices based on the size of the house.\n",
        "\n",
        "i. Import Libraries\n",
        "\n",
        "ii. Generate Synthetic Data.\n",
        "\n",
        "iii. Find the equation for regression.\n",
        "\n",
        "iv. Visualize the results\n",
        "\n",
        "v. Evaluate the model (R-Square Error and Root Mean Squared Error)"
      ]
    },
    {
      "cell_type": "markdown",
      "metadata": {
        "id": "i0Hhy_7JmFJ6"
      },
      "source": [
        "## Step 0: Importing the libraries:"
      ]
    },
    {
      "cell_type": "code",
      "execution_count": 1,
      "metadata": {
        "id": "8p0W3tghWCkw"
      },
      "outputs": [],
      "source": [
        "import numpy as np\n",
        "import pandas as pd\n",
        "import matplotlib.pyplot as plt"
      ]
    },
    {
      "cell_type": "markdown",
      "metadata": {
        "id": "WmX6sdBpi-T1"
      },
      "source": [
        "## Step 1: Generating house sizes"
      ]
    },
    {
      "cell_type": "code",
      "execution_count": 140,
      "metadata": {
        "colab": {
          "base_uri": "https://localhost:8080/"
        },
        "id": "ncu5aLh3XYqh",
        "outputId": "b371cb56-c52b-46d7-9837-7407ecafdac1"
      },
      "outputs": [
        {
          "name": "stdout",
          "output_type": "stream",
          "text": [
            "House Sizes in sq. feet is: \n",
            "\n",
            " [395 845 541 875 334 633 691 652 896 525 424 490 702 330 674 419 305 626\n",
            " 869 511 538 876 540 648 659 476 754 386 749 641]\n"
          ]
        }
      ],
      "source": [
        "house_size = np.random.randint(300, 900, 30)\n",
        "\n",
        "print(\"House Sizes in sq. feet is: \\n\\n\", house_size)"
      ]
    },
    {
      "cell_type": "markdown",
      "metadata": {
        "id": "Wkt60RI_jDII"
      },
      "source": [
        "## Step 2: Generating house prices"
      ]
    },
    {
      "cell_type": "code",
      "execution_count": 142,
      "metadata": {
        "colab": {
          "base_uri": "https://localhost:8080/"
        },
        "id": "yf4ZtjmfbUMw",
        "outputId": "decb2f7b-27ee-4c34-a253-0ac18c071077"
      },
      "outputs": [
        {
          "name": "stdout",
          "output_type": "stream",
          "text": [
            "House Price in $s is: \n",
            "\n",
            " [18055.98423819 41371.75513069 26356.80326616 42749.92779023\n",
            " 18107.77446559 31983.87887449 34465.61668581 31401.41392228\n",
            " 45057.95556736 24346.40755433 21483.55624703 23481.66596969\n",
            " 34607.21862151 16525.00467937 33572.44490174 21691.03028229\n",
            " 14461.40770121 32587.62201462 42966.62297504 25990.21071792\n",
            " 27643.73646684 43387.40145116 27549.87975023 31115.64569876\n",
            " 32300.07847155 22315.55963739 37196.31414402 18668.70024685\n",
            " 36980.21052065 29723.54696772]\n"
          ]
        }
      ],
      "source": [
        "house_price = house_size * 50 + np.random.randn(30) * 1000\n",
        "\n",
        "print(\"House Price in $s is: \\n\\n\", house_price)"
      ]
    },
    {
      "cell_type": "markdown",
      "metadata": {
        "id": "6Gq5yxpujFqd"
      },
      "source": [
        "## Step 3: Calculating the averages (means)"
      ]
    },
    {
      "cell_type": "code",
      "execution_count": 143,
      "metadata": {
        "colab": {
          "base_uri": "https://localhost:8080/"
        },
        "id": "82NFSsNEXmAG",
        "outputId": "bc83aed3-169d-4026-dc7f-480915185cc0"
      },
      "outputs": [
        {
          "name": "stdout",
          "output_type": "stream",
          "text": [
            "Mean Size:  600.1333333333333\n",
            "Mean Price:  29604.84583202455\n"
          ]
        }
      ],
      "source": [
        "size_avg = np.average(house_size)\n",
        "print(\"Mean Size: \", size_avg)\n",
        "\n",
        "price_avg = np.average(house_price)\n",
        "print(\"Mean Price: \", price_avg)"
      ]
    },
    {
      "cell_type": "markdown",
      "metadata": {
        "id": "03kHivlyjIeI"
      },
      "source": [
        "## Step 4: Calculating (X - X̄)"
      ]
    },
    {
      "cell_type": "code",
      "execution_count": 144,
      "metadata": {
        "colab": {
          "base_uri": "https://localhost:8080/"
        },
        "id": "MpEwJnoRYsg0",
        "outputId": "26532ce1-aba9-4d12-f233-1c7ebb7cd80b"
      },
      "outputs": [
        {
          "name": "stdout",
          "output_type": "stream",
          "text": [
            "The X - X̄ values are: \n",
            "\n",
            " [-205.13333333333333, 244.86666666666667, -59.133333333333326, 274.8666666666667, -266.1333333333333, 32.866666666666674, 90.86666666666667, 51.866666666666674, 295.8666666666667, -75.13333333333333, -176.13333333333333, -110.13333333333333, 101.86666666666667, -270.1333333333333, 73.86666666666667, -181.13333333333333, -295.1333333333333, 25.866666666666674, 268.8666666666667, -89.13333333333333, -62.133333333333326, 275.8666666666667, -60.133333333333326, 47.866666666666674, 58.866666666666674, -124.13333333333333, 153.86666666666667, -214.13333333333333, 148.86666666666667, 40.866666666666674]\n"
          ]
        }
      ],
      "source": [
        "sizeTemplst = [(size - size_avg) for size in house_size]\n",
        "\n",
        "print(\"The X - X̄ values are: \\n\\n\", sizeTemplst)"
      ]
    },
    {
      "cell_type": "markdown",
      "metadata": {
        "id": "tCuoSSnZjNGl"
      },
      "source": [
        "## Step 5: Calculating (Y - Ȳ)"
      ]
    },
    {
      "cell_type": "code",
      "execution_count": 145,
      "metadata": {
        "colab": {
          "base_uri": "https://localhost:8080/"
        },
        "id": "xBIbI1fMhsd9",
        "outputId": "a8d4b848-2905-4f57-fff8-77fe1d3835af"
      },
      "outputs": [
        {
          "name": "stdout",
          "output_type": "stream",
          "text": [
            "The Y - Ȳ values are: \n",
            "\n",
            " [-11548.86159383044, 11766.909298667615, -3248.042565865726, 13145.08195820064, -11497.071366437918, 2379.0330424642925, 4860.770853785743, 1796.5680902597414, 15453.10973533936, -5258.4382776934435, -8121.289584999082, -6123.179862335921, 5002.372789487115, -13079.841152651898, 3967.5990697177076, -7913.815549730232, -15143.438130813249, 2982.77618259671, 13361.777143017276, -3614.63511410894, -1961.1093651842457, 13782.555619135532, -2054.9660817898075, 1510.7998667392421, 2695.2326395238997, -7289.286194637101, 7591.468311992325, -10936.145585172668, 7375.364688628539, 118.70113569505338]\n"
          ]
        }
      ],
      "source": [
        "priceTemplst = [(price - price_avg) for price in house_price]\n",
        "\n",
        "print(\"The Y - Ȳ values are: \\n\\n\", priceTemplst)"
      ]
    },
    {
      "cell_type": "markdown",
      "metadata": {
        "id": "s6i8SYHZjSSq"
      },
      "source": [
        "## Step 6: Calculating (X - X̄) * (Y - Ȳ)"
      ]
    },
    {
      "cell_type": "code",
      "execution_count": 146,
      "metadata": {
        "colab": {
          "base_uri": "https://localhost:8080/"
        },
        "id": "8EmU_bBpYtzY",
        "outputId": "a34c2269-1a30-4238-98ab-5aa556eeaf23"
      },
      "outputs": [
        {
          "name": "stdout",
          "output_type": "stream",
          "text": [
            "The (X - X̄) * (Y - Ȳ) values are: \n",
            "\n",
            " [2369056.4749477506, 2881323.856933743, 192067.58372819325, 3613144.8609107495, 3059753.9263213445, 78190.88599565976, 441682.04491399793, 93181.99828147194, 4572060.067029072, 395083.9959307007, 1430429.8055711715, 674366.208838596, 509575.0414890875, 3533301.0900363657, 293073.3179498147, 1433455.7899078026, 4469333.373674016, 77154.47725650159, 3592536.4811859117, 322184.4765042435, 121850.26189011445, 3802147.6767988554, 123571.9603849604, 72316.95362125174, 158659.3613799736, 904843.3929609521, 1168073.9242718858, 2341793.3079716405, 1097945.9566471686, 4850.919745404516]\n"
          ]
        }
      ],
      "source": [
        "size2Pricelst = [(sizeTemplst[i] * priceTemplst[i]) for i in range(len(house_size))]\n",
        "\n",
        "print(\"The (X - X̄) * (Y - Ȳ) values are: \\n\\n\", size2Pricelst)"
      ]
    },
    {
      "cell_type": "markdown",
      "metadata": {
        "id": "QSqdJoMboeeC"
      },
      "source": [
        "## Step 7: Calculating (X - X̄)^2"
      ]
    },
    {
      "cell_type": "code",
      "execution_count": 147,
      "metadata": {
        "colab": {
          "base_uri": "https://localhost:8080/"
        },
        "id": "qy-RtPNtcyCy",
        "outputId": "0eaff0b0-f8bc-44ff-bcaa-eed2e6acd7dd"
      },
      "outputs": [
        {
          "name": "stdout",
          "output_type": "stream",
          "text": [
            "The (X - X̄)^2 values are: \n",
            "\n",
            " [42079.68444444444, 59959.68444444445, 3496.7511111111103, 75551.68444444444, 70826.9511111111, 1080.2177777777783, 8256.751111111113, 2690.1511111111117, 87537.08444444445, 5645.017777777776, 31022.95111111111, 12129.35111111111, 10376.81777777778, 72972.01777777777, 5456.284444444445, 32809.28444444444, 87103.68444444444, 669.0844444444448, 72289.28444444445, 7944.75111111111, 3860.55111111111, 76102.41777777778, 3616.0177777777767, 2291.2177777777783, 3465.2844444444454, 15409.084444444443, 23674.951111111113, 45853.084444444445, 22161.284444444445, 1670.0844444444451]\n"
          ]
        }
      ],
      "source": [
        "sizeSqTemplst = [(size_diff**2) for size_diff in sizeTemplst]\n",
        "\n",
        "print(\"The (X - X̄)^2 values are: \\n\\n\", sizeSqTemplst)\n"
      ]
    },
    {
      "cell_type": "markdown",
      "metadata": {
        "id": "PfFA-wpAoQgo"
      },
      "source": [
        "# iii. Find the equation for regression."
      ]
    },
    {
      "cell_type": "markdown",
      "metadata": {
        "id": "iWFqKG8toiz-"
      },
      "source": [
        "## Step 8: Calculating Beta One (Slope)"
      ]
    },
    {
      "cell_type": "code",
      "execution_count": 148,
      "metadata": {
        "colab": {
          "base_uri": "https://localhost:8080/"
        },
        "id": "WcpNIHbXfk-a",
        "outputId": "4fbbfa5d-3468-45b8-e253-562fc51af707"
      },
      "outputs": [
        {
          "name": "stdout",
          "output_type": "stream",
          "text": [
            "Beta One (Slope) Value is: \n",
            "\n",
            " 49.35465888090697\n"
          ]
        }
      ],
      "source": [
        "beta_One = sum(size2Pricelst) / sum(sizeSqTemplst)\n",
        "print(\"Beta One (Slope) Value is: \\n\\n\", beta_One)"
      ]
    },
    {
      "cell_type": "markdown",
      "metadata": {
        "id": "663GSCVtolEb"
      },
      "source": [
        "## Step 9: Calculating Beta Zero (Intercept)"
      ]
    },
    {
      "cell_type": "code",
      "execution_count": 149,
      "metadata": {
        "colab": {
          "base_uri": "https://localhost:8080/"
        },
        "id": "fU8mUsEqfk6-",
        "outputId": "847d9e5d-5a23-4478-8fd2-de7754e49504"
      },
      "outputs": [
        {
          "name": "stdout",
          "output_type": "stream",
          "text": [
            "Beta Zero (Intercept) Value is: \n",
            "\n",
            " -14.530117703750875\n"
          ]
        }
      ],
      "source": [
        "beta_Zero = price_avg - (beta_One * size_avg)\n",
        "print(\"Beta Zero (Intercept) Value is: \\n\\n\", beta_Zero)"
      ]
    },
    {
      "cell_type": "markdown",
      "metadata": {
        "id": "DDXIEYI7m3lK"
      },
      "source": [
        "\n",
        "## Equation of Line is=> y = beta_Zero + (beta_One * house_size)\n"
      ]
    },
    {
      "cell_type": "markdown",
      "metadata": {
        "id": "lRl5M99coWH7"
      },
      "source": [
        "# iv. Visualize the results"
      ]
    },
    {
      "cell_type": "code",
      "execution_count": 154,
      "metadata": {
        "colab": {
          "base_uri": "https://localhost:8080/",
          "height": 472
        },
        "id": "IUeC89fefk2Q",
        "outputId": "76ddda9c-72fe-4c5c-8c60-5eadcf35941d"
      },
      "outputs": [
        {
          "data": {
            "image/png": "[encoded data removed]",
            "text/plain": [
              "<Figure size 640x480 with 1 Axes>"
            ]
          },
          "metadata": {},
          "output_type": "display_data"
        }
      ],
      "source": [
        "plt.scatter(house_size, house_price, label='Actual Values')\n",
        "\n",
        "predicted_prices = beta_Zero + (beta_One * house_size)\n",
        "\n",
        "plt.plot(house_size, predicted_prices, label=f'Equation of Line: y = {beta_Zero:.2f} + {beta_One:.2f} * x')\n",
        "\n",
        "\n",
        "plt.xlabel('House Size (sq. feet)')\n",
        "plt.ylabel('House Price ($)')\n",
        "plt.title('House Size vs Price')\n",
        "\n",
        "plt.legend()\n",
        "plt.show()"
      ]
    },
    {
      "cell_type": "markdown",
      "metadata": {
        "id": "Il25VG1KoZ-g"
      },
      "source": [
        "# v. Evaluate the model (R-Square Error and Root Mean Squared Error)"
      ]
    },
    {
      "cell_type": "code",
      "execution_count": 164,
      "metadata": {
        "colab": {
          "base_uri": "https://localhost:8080/"
        },
        "id": "73nWzL7-fkzs",
        "outputId": "4014c3b0-75d2-4565-e42d-e2fe8b849f67"
      },
      "outputs": [
        {
          "name": "stdout",
          "output_type": "stream",
          "text": [
            "R-Squared (R^2) Error is: 0.9893179667467279\n",
            "Root Mean Squared Error (RMSE) is: 882.3347491056142\n"
          ]
        }
      ],
      "source": [
        "y_actual = house_price\n",
        "y_predicted = beta_Zero + (beta_One * house_size)\n",
        "mean_price = price_avg\n",
        "\n",
        "ssr = sum((y_predicted[i] - mean_price) ** 2 for i in range(len(y_predicted)))\n",
        "sst = sum((y_actual[i] - mean_price) ** 2 for i in range(len(y_actual)))\n",
        "\n",
        "r_squared_manual = ssr / sst\n",
        "print(\"R-Squared (R^2) Error is:\", r_squared_manual)\n",
        "\n",
        "\n",
        "sse = sum((y_actual[i] - y_predicted[i]) ** 2 for i in range(len(y_actual)))\n",
        "rmse_manual = (sse / len(y_actual)) ** 0.5\n",
        "\n",
        "print(\"Root Mean Squared Error (RMSE) is:\", rmse_manual)"
      ]
    },
    {
      "cell_type": "markdown",
      "metadata": {
        "id": "qTnnb2Qyrnky"
      },
      "source": [
        "<br><br><br><br><br>\n",
        "\n",
        "# 2. Implement multiple linear regression to predict car prices based on features such as engine size, horsepower, and weight.\n",
        "\n",
        "i.  Import Libraries\n",
        "\n",
        "ii.  Generate Synthetic Data.\n",
        "\n",
        "iii. Find the equation for regression.\n",
        "\n",
        "iv. Visualize the results\n",
        "\n",
        "v. Evaluate the model (R-Square Error and Root Mean Squared Error)"
      ]
    },
    {
      "cell_type": "markdown",
      "metadata": {
        "id": "aP9G5INFrvgC"
      },
      "source": [
        "# ii. Generate Synthetic Data"
      ]
    },
    {
      "cell_type": "code",
      "execution_count": 173,
      "metadata": {
        "id": "3QR16xIUrOK6"
      },
      "outputs": [],
      "source": [
        "n_samples = 100\n",
        "\n",
        "engine_size = np.random.randint(1000, 5000, n_samples)\n",
        "horsepower = np.random.randint(100, 400, n_samples)\n",
        "weight = np.random.randint(1500, 4000, n_samples)\n",
        "\n",
        "beta_0 = 5000\n",
        "beta_1 = 20\n",
        "beta_2 = 150\n",
        "beta_3 = -10\n",
        "\n",
        "epsilon = np.random.randn(n_samples) * 1000\n",
        "\n",
        "car_price = beta_0 + (beta_1 * engine_size) + (beta_2 * horsepower) + (beta_3 * weight) + epsilon\n",
        "\n",
        "df = pd.DataFrame({\n",
        "    'Engine_Size': engine_size,\n",
        "    'Horsepower': horsepower,\n",
        "    'Weight': weight,\n",
        "    'Car_Price': car_price\n",
        "})"
      ]
    },
    {
      "cell_type": "code",
      "execution_count": 174,
      "metadata": {
        "colab": {
          "base_uri": "https://localhost:8080/"
        },
        "id": "wlMpyLcTrPOs",
        "outputId": "0681d381-675f-4c45-92b8-f58e72f4eb71"
      },
      "outputs": [
        {
          "name": "stdout",
          "output_type": "stream",
          "text": [
            "   Engine_Size  Horsepower  Weight      Car_Price\n",
            "0         1920         206    2199   50823.229217\n",
            "1         4468         325    1947  123956.426073\n",
            "2         3769         317    3912   89254.655186\n",
            "3         4232         340    2174  117904.644636\n",
            "4         1015         358    2507   54820.738084\n"
          ]
        }
      ],
      "source": [
        "print(df.head())"
      ]
    },
    {
      "cell_type": "markdown",
      "metadata": {
        "id": "-K5Zr-Njr3i9"
      },
      "source": [
        "# iii. Find the Equation for Regression"
      ]
    },
    {
      "cell_type": "code",
      "execution_count": 177,
      "metadata": {
        "colab": {
          "base_uri": "https://localhost:8080/"
        },
        "id": "Rf8u0W4ErRK-",
        "outputId": "6b6dd3fb-d131-4645-a969-41ddf1edc364"
      },
      "outputs": [
        {
          "name": "stdout",
          "output_type": "stream",
          "text": [
            "Beta_0 (Intercept): 4725.031416700818\n",
            "Beta_1 (Engine Size Coeff): 19.917726595558253\n",
            "Beta_2 (Horsepower Coeff): 151.5660420766926\n",
            "Beta_3 (Weight Coeff): -9.872402290976462\n"
          ]
        }
      ],
      "source": [
        "X = np.c_[np.ones(n_samples), engine_size, horsepower, weight]\n",
        "y = car_price\n",
        "\n",
        "\n",
        "beta = np.linalg.inv(X.T.dot(X)).dot(X.T).dot(y)\n",
        "\n",
        "beta_0, beta_1, beta_2, beta_3 = beta\n",
        "print(f\"Beta_0 (Intercept): {beta_0}\")\n",
        "print(f\"Beta_1 (Engine Size Coeff): {beta_1}\")\n",
        "print(f\"Beta_2 (Horsepower Coeff): {beta_2}\")\n",
        "print(f\"Beta_3 (Weight Coeff): {beta_3}\")"
      ]
    },
    {
      "cell_type": "markdown",
      "metadata": {
        "id": "XnizmK1osQLu"
      },
      "source": [
        "# iv. Visualize the Results"
      ]
    },
    {
      "cell_type": "code",
      "execution_count": 178,
      "metadata": {
        "colab": {
          "base_uri": "https://localhost:8080/",
          "height": 472
        },
        "id": "VihlwZVvrTzQ",
        "outputId": "53871b00-b688-4b19-e750-234212025c40"
      },
      "outputs": [
        {
          "data": {
            "image/png": "[encoded data removed]",
            "text/plain": [
              "<Figure size 640x480 with 1 Axes>"
            ]
          },
          "metadata": {},
          "output_type": "display_data"
        }
      ],
      "source": [
        "y_pred = beta_0 + beta_1 * engine_size + beta_2 * horsepower + beta_3 * weight\n",
        "\n",
        "plt.scatter(y, y_pred)\n",
        "plt.plot([min(y), max(y)], [min(y), max(y)], linewidth=2)\n",
        "\n",
        "plt.xlabel('Actual Car Prices')\n",
        "plt.ylabel('Predicted Car Prices')\n",
        "plt.title('Actual vs Predicted Car Prices')\n",
        "\n",
        "plt.show()"
      ]
    },
    {
      "cell_type": "code",
      "execution_count": 181,
      "metadata": {
        "colab": {
          "base_uri": "https://localhost:8080/"
        },
        "id": "jrlrane9rgXL",
        "outputId": "25cda2bc-1ee0-4672-bd4b-9906afeddf8c"
      },
      "outputs": [
        {
          "name": "stdout",
          "output_type": "stream",
          "text": [
            "R-Squared: 0.9987402243560305\n",
            "Root Mean Squared Error (RMSE): 1108.356731315099\n"
          ]
        }
      ],
      "source": [
        "sst = sum((y - np.mean(y)) ** 2)\n",
        "\n",
        "ssr = sum((y_pred - np.mean(y)) ** 2)\n",
        "\n",
        "sse = sum((y - y_pred) ** 2)\n",
        "\n",
        "r_squared = ssr / sst\n",
        "print(f\"R-Squared: {r_squared}\")\n",
        "\n",
        "rmse = np.sqrt(sse / n_samples)\n",
        "print(f\"Root Mean Squared Error (RMSE): {rmse}\")"
      ]
    }
  ],
  "metadata": {
    "colab": {
      "provenance": []
    },
    "kernelspec": {
      "display_name": "Python 3",
      "name": "python3"
    },
    "language_info": {
      "name": "python"
    }
  },
  "nbformat": 4,
  "nbformat_minor": 0
}
