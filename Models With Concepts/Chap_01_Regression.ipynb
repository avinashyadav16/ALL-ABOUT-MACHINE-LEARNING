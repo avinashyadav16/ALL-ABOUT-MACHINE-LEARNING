{
 "cells": [
  {
   "cell_type": "markdown",
   "metadata": {},
   "source": [
    "># LECTURE - 01\n",
    ">### INTRODUCTION TO LINEAR REGRESSION: <br><br>"
   ]
  },
  {
   "cell_type": "code",
   "execution_count": 1,
   "metadata": {},
   "outputs": [],
   "source": [
    "import quandl, math\n",
    "import numpy as np\n",
    "import pandas as pd\n",
    "from sklearn import preprocessing, model_selection, svm\n",
    "from sklearn.linear_model import LinearRegression"
   ]
  },
  {
   "cell_type": "code",
   "execution_count": 2,
   "metadata": {},
   "outputs": [
    {
     "name": "stdout",
     "output_type": "stream",
     "text": [
      "              Open    High     Low    Close      Volume  Ex-Dividend  \\\n",
      "Date                                                                   \n",
      "2004-08-19  100.01  104.06   95.96  100.335  44659000.0          0.0   \n",
      "2004-08-20  101.01  109.08  100.50  108.310  22834300.0          0.0   \n",
      "2004-08-23  110.76  113.48  109.05  109.400  18256100.0          0.0   \n",
      "2004-08-24  111.24  111.60  103.57  104.870  15247300.0          0.0   \n",
      "2004-08-25  104.76  108.00  103.88  106.000   9188600.0          0.0   \n",
      "\n",
      "            Split Ratio  Adj. Open  Adj. High   Adj. Low  Adj. Close  \\\n",
      "Date                                                                   \n",
      "2004-08-19          1.0  50.159839  52.191109  48.128568   50.322842   \n",
      "2004-08-20          1.0  50.661387  54.708881  50.405597   54.322689   \n",
      "2004-08-23          1.0  55.551482  56.915693  54.693835   54.869377   \n",
      "2004-08-24          1.0  55.792225  55.972783  51.945350   52.597363   \n",
      "2004-08-25          1.0  52.542193  54.167209  52.100830   53.164113   \n",
      "\n",
      "            Adj. Volume  \n",
      "Date                     \n",
      "2004-08-19   44659000.0  \n",
      "2004-08-20   22834300.0  \n",
      "2004-08-23   18256100.0  \n",
      "2004-08-24   15247300.0  \n",
      "2004-08-25    9188600.0  \n"
     ]
    }
   ],
   "source": [
    "df = quandl.get('WIKI/GOOGL')\n",
    "print(df.head())"
   ]
  },
  {
   "cell_type": "code",
   "execution_count": 3,
   "metadata": {},
   "outputs": [
    {
     "name": "stdout",
     "output_type": "stream",
     "text": [
      "<bound method NDFrame.head of               Adj. Open    Adj. High     Adj. Low   Adj. Close  Adj. Volume\n",
      "Date                                                                       \n",
      "2004-08-19    50.159839    52.191109    48.128568    50.322842   44659000.0\n",
      "2004-08-20    50.661387    54.708881    50.405597    54.322689   22834300.0\n",
      "2004-08-23    55.551482    56.915693    54.693835    54.869377   18256100.0\n",
      "2004-08-24    55.792225    55.972783    51.945350    52.597363   15247300.0\n",
      "2004-08-25    52.542193    54.167209    52.100830    53.164113    9188600.0\n",
      "...                 ...          ...          ...          ...          ...\n",
      "2018-03-21  1092.570000  1108.700000  1087.210000  1094.000000    1990515.0\n",
      "2018-03-22  1080.010000  1083.920000  1049.640000  1053.150000    3418154.0\n",
      "2018-03-23  1051.370000  1066.780000  1024.870000  1026.550000    2413517.0\n",
      "2018-03-26  1050.600000  1059.270000  1010.580000  1054.090000    3272409.0\n",
      "2018-03-27  1063.900000  1064.540000   997.620000  1006.940000    2940957.0\n",
      "\n",
      "[3424 rows x 5 columns]>\n"
     ]
    }
   ],
   "source": [
    "df = df[ ['Adj. Open', 'Adj. High', 'Adj. Low', 'Adj. Close', 'Adj. Volume'] ]\n",
    "print(df.head)"
   ]
  },
  {
   "cell_type": "code",
   "execution_count": 4,
   "metadata": {},
   "outputs": [],
   "source": [
    "# Percentage change in High to Low stock price: \n",
    "df['H2L_PerCng'] = ( df['Adj. High'] - df['Adj. Close'] ) / df['Adj. Close'] * 100.0\n"
   ]
  },
  {
   "cell_type": "code",
   "execution_count": 5,
   "metadata": {},
   "outputs": [],
   "source": [
    "# (Features)\n",
    "# Daily Percentage change in Close to Open stock price: \n",
    "df['Per_Cng'] = ( df[\"Adj. Close\"] - df['Adj. Open'] ) / df['Adj. Open'] * 100.0\n"
   ]
  },
  {
   "cell_type": "code",
   "execution_count": 6,
   "metadata": {},
   "outputs": [
    {
     "name": "stdout",
     "output_type": "stream",
     "text": [
      "            Adj. Close  H2L_PerCng   Per_Cng  Adj. Volume\n",
      "Date                                                     \n",
      "2004-08-19   50.322842    3.712563  0.324968   44659000.0\n",
      "2004-08-20   54.322689    0.710922  7.227007   22834300.0\n",
      "2004-08-23   54.869377    3.729433 -1.227880   18256100.0\n",
      "2004-08-24   52.597363    6.417469 -5.726357   15247300.0\n",
      "2004-08-25   53.164113    1.886792  1.183658    9188600.0\n"
     ]
    }
   ],
   "source": [
    "# (Features)\n",
    "# creating the dataframe we wnat to work with:\n",
    "df = df[ ['Adj. Close', 'H2L_PerCng', 'Per_Cng', 'Adj. Volume'] ]\n",
    "\n",
    "print(df.head())"
   ]
  },
  {
   "cell_type": "markdown",
   "metadata": {},
   "source": [
    "># LECTURE - 02\n",
    ">### Features and Labels: \n",
    "> Usually we define features by capital X and labels by small y.<br><br>"
   ]
  },
  {
   "cell_type": "code",
   "execution_count": 7,
   "metadata": {},
   "outputs": [
    {
     "name": "stdout",
     "output_type": "stream",
     "text": [
      "            Adj. Close  H2L_PerCng   Per_Cng  Adj. Volume      label\n",
      "Date                                                                \n",
      "2004-08-19   50.322842    3.712563  0.324968   44659000.0  69.078238\n",
      "2004-08-20   54.322689    0.710922  7.227007   22834300.0  67.839414\n",
      "2004-08-23   54.869377    3.729433 -1.227880   18256100.0  68.912727\n",
      "2004-08-24   52.597363    6.417469 -5.726357   15247300.0  70.668146\n",
      "2004-08-25   53.164113    1.886792  1.183658    9188600.0  71.219849\n",
      "\n",
      "\n",
      "\n",
      "            Adj. Close  H2L_PerCng   Per_Cng  Adj. Volume    label\n",
      "Date                                                              \n",
      "2018-01-30     1177.37    0.896914 -0.029718    1792602.0  1094.00\n",
      "2018-01-31     1182.22    0.346805 -0.134312    1643877.0  1053.15\n",
      "2018-02-01     1181.59    0.495942  0.476195    2774967.0  1026.55\n",
      "2018-02-02     1119.20    1.081129 -0.729098    5798880.0  1054.09\n",
      "2018-02-05     1068.76    4.325574 -2.893850    3742469.0  1006.94\n"
     ]
    }
   ],
   "source": [
    "# It is just a variable created to work with the stock prices:\n",
    "forecast_col = 'Adj. Close'\n",
    "\n",
    "# In case of missing data and we can't get rid of it, so we fill that column with some specific values:\n",
    "df.fillna(-9999, inplace=True)\n",
    "\n",
    "# Actually we are trying to predict the 10% of the dataframe to predict the forecast out:\n",
    "forecast_out = int(math.ceil(0.01*len(df)))\n",
    "\n",
    "# Creating label:\n",
    "# Since we have forecast_out, so we can create labels\n",
    "# Here we are using forecast_out as minus that's why we made it as int data type\n",
    "# So, basically we are shifting the columns negativelly upwards\n",
    "df['label'] = df[forecast_col].shift(-forecast_out)\n",
    "\n",
    "# So, this will just print first five rows of the dataframes\n",
    "print(df.head())\n",
    "print(\"\\n\\n\")\n",
    "df.dropna(inplace=True)\n",
    "print(df.tail())\n"
   ]
  },
  {
   "cell_type": "markdown",
   "metadata": {},
   "source": [
    "># LECTURE - 03\n",
    ">### Training and Testing: <br><br>"
   ]
  },
  {
   "cell_type": "code",
   "execution_count": null,
   "metadata": {},
   "outputs": [],
   "source": [
    "X = np.array( df.drop(['label'], axis = 1) )\n",
    "# Creating training and testing set of data(hopefully here we are using 20% of total data)\n",
    "# X_test and y_test we used to fit our classifier.\n",
    "X_train, X_test, y_train, y_test = model_selection.train_test_split( X, y, test_size=0.2 )\n",
    "\n",
    "X = X[:-forecast_out]\n",
    "\n",
    "# Stuff that is actually goinig to predict again:\n",
    "X_lately = X[-forecast_out:]\n",
    "\n",
    "X = preprocessing.scale(X)\n",
    "\n",
    "# Dropping the missing data:\n",
    "df.dropna(inplace=True)\n",
    "\n",
    "# Creating the labels:\n",
    "y = np.array(df['label'])\n",
    "y = np.array(df['label'])\n",
    "\n",
    "\n",
    "# Now we need to define the classifier\n",
    "clf = LinearRegression()\n",
    "\n",
    "# Now to fit or train our classifier, we just fit our classifier\n",
    "# fit is synonymous with train \n",
    "clf.fit( X_train, y_train )\n",
    "\n",
    "# Now we need to see out what the accuracy is\n",
    "# score is synonymous with test\n",
    "accuracy = clf.score( X_test, y_test )\n",
    "\n",
    "print(accuracy)\n"
   ]
  },
  {
   "cell_type": "markdown",
   "metadata": {},
   "source": [
    "># LECTURE - 04\n",
    ">### Forecasting and Predicting: <br><br>"
   ]
  }
 ],
 "metadata": {
  "kernelspec": {
   "display_name": "Python 3",
   "language": "python",
   "name": "python3"
  },
  "language_info": {
   "codemirror_mode": {
    "name": "ipython",
    "version": 3
   },
   "file_extension": ".py",
   "mimetype": "text/x-python",
   "name": "python",
   "nbconvert_exporter": "python",
   "pygments_lexer": "ipython3",
   "version": "3.11.7"
  },
  "orig_nbformat": 4
 },
 "nbformat": 4,
 "nbformat_minor": 2
}
