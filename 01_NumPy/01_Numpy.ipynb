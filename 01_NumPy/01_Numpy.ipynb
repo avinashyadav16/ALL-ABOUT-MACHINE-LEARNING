{
 "cells": [
  {
   "cell_type": "markdown",
   "metadata": {},
   "source": [
    "# <center>NumPy</center>\n"
   ]
  },
  {
   "cell_type": "markdown",
   "metadata": {},
   "source": [
    "## What is NumPy?\n",
    "\n",
    "- NumPy is the fundamental package for scientific computing in Python.\n",
    "- NumPy is a Python library that provides a multidimensional array object, various derived objects\n"
   ]
  },
  {
   "cell_type": "markdown",
   "metadata": {},
   "source": [
    "<hr>"
   ]
  },
  {
   "cell_type": "markdown",
   "metadata": {},
   "source": [
    "## What Is NumPy Array?\n",
    "\n",
    "- An array is a grid of values and it contains information about the raw data, how to locate an element, and how to interpret an element.\n",
    "  - 0D Array - Scalar\n",
    "  - 1D Array - like a list, “vector”\n",
    "  - 2D Array - like a table, “matrix”\n",
    "  - 3D Array or more - set of tables, perhaps stacked, “tensor”\n",
    "  - Higher-Dimensional Array\n",
    "\n",
    "\n",
    "<pre>NOTE: </pre>\n",
    "The dimension of an array is sometimes referred to as an “axis”. This terminology may be useful to disambiguate between the dimensionality of an array and the dimensionality of the data represented by the array."
   ]
  },
  {
   "cell_type": "markdown",
   "metadata": {},
   "source": [
    "Most NumPy arrays have some restrictions. <br>\n",
    "For instance:\n",
    "\n",
    "- All elements of the array must be of the same type of data.\n",
    "\n",
    "- Once created, the total size of the the array can’t change.\n",
    "\n",
    "- The shape must be “rectangular”, not “jagged”; e.g., each row of a two-dimensional array must have the same number of columns.\n"
   ]
  },
  {
   "cell_type": "markdown",
   "metadata": {},
   "source": [
    "<hr>"
   ]
  },
  {
   "cell_type": "markdown",
   "metadata": {},
   "source": [
    "## NumPy vs Python List\n",
    "\n",
    "- Advantages of using Numpy Arrays Over Python Lists:\n",
    "  - consumes less memory.\n",
    "  - fast as compared to the python List.\n",
    "  - convenient to use.\n",
    "\n",
    "<details open> \n",
    "<summary>Why is NumPy fast?</summary>\n",
    "Vectorization describes the absence of any explicit looping, indexing, etc., in the code - these things are taking placein optimized, pre-compiled C code.\n",
    "\n",
    "Vectorized code has many advantages, among which are:\n",
    "\n",
    "- vectorized code is more concise and easier to read\n",
    "\n",
    "- fewer lines of code generally means fewer bugs\n",
    "\n",
    "- the code more closely resembles standard mathematical notation (making it easier, typically, to correctly code mathematical constructs)\n",
    "\n",
    "- vectorization results in more “Pythonic” code. Without vectorization, our code would be littered with inefficient and difficult to read for loops.\n",
    "\n",
    "</details>\n"
   ]
  },
  {
   "cell_type": "code",
   "execution_count": 128,
   "metadata": {},
   "outputs": [],
   "source": [
    "import numpy as np\n",
    "\n",
    "import time"
   ]
  },
  {
   "cell_type": "code",
   "execution_count": 3,
   "metadata": {},
   "outputs": [
    {
     "name": "stdout",
     "output_type": "stream",
     "text": [
      "[1, 2, 3, 4]\n",
      "<class 'list'>\n"
     ]
    }
   ],
   "source": [
    "pythonList = [1, 2, 3, 4]\n",
    "print(pythonList)\n",
    "\n",
    "print(type(pythonList))"
   ]
  },
  {
   "cell_type": "code",
   "execution_count": 9,
   "metadata": {},
   "outputs": [
    {
     "name": "stdout",
     "output_type": "stream",
     "text": [
      "[1 2 3 4]\n",
      "<class 'numpy.ndarray'>\n"
     ]
    }
   ],
   "source": [
    "npArray = np.array([1, 2, 3, 4])\n",
    "print(npArray)\n",
    "\n",
    "print(type(npArray))"
   ]
  },
  {
   "cell_type": "code",
   "execution_count": 160,
   "metadata": {},
   "outputs": [
    {
     "name": "stdout",
     "output_type": "stream",
     "text": [
      "1.27 µs ± 189 ns per loop (mean ± std. dev. of 7 runs, 1,000,000 loops each)\n"
     ]
    }
   ],
   "source": [
    "%timeit [i**10 for i in range(1, 11)]"
   ]
  },
  {
   "cell_type": "code",
   "execution_count": 161,
   "metadata": {},
   "outputs": [
    {
     "name": "stdout",
     "output_type": "stream",
     "text": [
      "2.87 µs ± 544 ns per loop (mean ± std. dev. of 7 runs, 100,000 loops each)\n"
     ]
    }
   ],
   "source": [
    "%timeit np.arange(1, 11)**10"
   ]
  },
  {
   "cell_type": "code",
   "execution_count": 186,
   "metadata": {},
   "outputs": [
    {
     "name": "stdout",
     "output_type": "stream",
     "text": [
      "Python List Duration: 0.001000 seconds\n",
      "Python List TotalSum: 383375999244747512217600000000000000000000\n",
      "Numpy Array Duration: 0.001005 seconds\n",
      "Numpy Array TotalSum: 3.8337599924474756e+41\n"
     ]
    }
   ],
   "source": [
    "# Python list example\n",
    "pythonSampleList = [1, 2, 3, 4, 5]\n",
    "\n",
    "start_time = time.time()\n",
    "\n",
    "totalSum = 1\n",
    "for i in range(len(pythonSampleList)):\n",
    "    for j in range(len(pythonSampleList)):\n",
    "        totalSum *= (pythonSampleList[i]**2) * (pythonSampleList[j]**2)\n",
    "\n",
    "end_time = time.time()\n",
    "\n",
    "duration = end_time - start_time\n",
    "print('Python List Duration: {:.6f} seconds'.format(duration))\n",
    "print('Python List TotalSum:', totalSum)\n",
    "\n",
    "# Numpy array example\n",
    "npSampleArray = np.array([1, 2, 3, 4, 5], dtype=np.float64)\n",
    "\n",
    "start_time = time.time()\n",
    "\n",
    "totalSum = 1.0\n",
    "for i in range(len(npSampleArray)):\n",
    "    for j in range(len(npSampleArray)):\n",
    "        totalSum *= (npSampleArray[i]**2) * (npSampleArray[j]**2)\n",
    "\n",
    "end_time = time.time()\n",
    "\n",
    "duration = end_time - start_time\n",
    "print('Numpy Array Duration: {:.6f} seconds'.format(duration))\n",
    "print('Numpy Array TotalSum:', totalSum)"
   ]
  },
  {
   "cell_type": "markdown",
   "metadata": {},
   "source": [
    "<hr>"
   ]
  },
  {
   "cell_type": "markdown",
   "metadata": {},
   "source": [
    "## Difference Between NumPy Array and List in Python\n",
    "\n",
    "- Data types storage\n",
    "- Importing module\n",
    "- Numerical operation\n",
    "- Modification capabilities\n",
    "- Consumes less memory\n",
    "- Fast as compared to the python list\n",
    "- Convenient to use\n"
   ]
  },
  {
   "cell_type": "markdown",
   "metadata": {},
   "source": [
    "One major difference is that slice indexing of a list copies the elements into a new list, but slicing an array returns a view: an object that refers to the data in the original array. The original array can be mutated using the view."
   ]
  },
  {
   "cell_type": "code",
   "execution_count": 187,
   "metadata": {},
   "outputs": [
    {
     "name": "stdout",
     "output_type": "stream",
     "text": [
      "Original list: [1, 2, 3, 4, 5]\n",
      "Sliced list: [99, 3, 4]\n",
      "Original array: [ 1 99  3  4  5]\n",
      "Sliced array: [99  3  4]\n"
     ]
    }
   ],
   "source": [
    "# Python list example\n",
    "python_list = [1, 2, 3, 4, 5]\n",
    "sliced_list = python_list[1:4]\n",
    "sliced_list[0] = 99\n",
    "\n",
    "print(\"Original list:\", python_list)\n",
    "print(\"Sliced list:\", sliced_list)\n",
    "\n",
    "\n",
    "\n",
    "\n",
    "# NumPy array example\n",
    "np_array = np.array([1, 2, 3, 4, 5])\n",
    "sliced_array = np_array[1:4]\n",
    "sliced_array[0] = 99\n",
    "\n",
    "print(\"Original array:\", np_array)\n",
    "print(\"Sliced array:\", sliced_array)"
   ]
  },
  {
   "cell_type": "markdown",
   "metadata": {},
   "source": [
    "<pre>NOTE: </pre>This behavior of NumPy arrays is particularly useful for working with large datasets, as it avoids unnecessary copying and saves memory and computational resources."
   ]
  },
  {
   "cell_type": "markdown",
   "metadata": {},
   "source": [
    "Another difference between an array and a list of lists is that an element of the array can be accessed by specifying the index along each axis within a single set of square brackets, separated by commas. For instance, the element 8 is in row 1 and column 3:"
   ]
  },
  {
   "cell_type": "code",
   "execution_count": 188,
   "metadata": {},
   "outputs": [
    {
     "data": {
      "text/plain": [
       "8"
      ]
     },
     "execution_count": 188,
     "metadata": {},
     "output_type": "execute_result"
    }
   ],
   "source": [
    "a = np.array([[1, 2, 3, 4], [5, 6, 7, 8], [9, 10, 11, 12]])\n",
    "a[1, 3]"
   ]
  },
  {
   "cell_type": "markdown",
   "metadata": {},
   "source": [
    "<hr>"
   ]
  },
  {
   "cell_type": "markdown",
   "metadata": {},
   "source": [
    "## Importance of NumPy in Python\n",
    "\n",
    "- wide variety of mathematical operations on arrays.\n",
    "- It supplies an enormous library of high-level mathematical functions that operate on these arrays and matrices.\n",
    "- Mathematical, logical, shape manipulation, sorting, selecting, I/O, Discrete Fourier transforms, basic linear algebra, basic statistical operations, random simulation and much more.\n"
   ]
  },
  {
   "cell_type": "markdown",
   "metadata": {},
   "source": [
    "## Creating NumPy Arrays\n",
    "\n",
    "- To create a NumPy array, you can use the function np.array().\n"
   ]
  },
  {
   "cell_type": "code",
   "execution_count": 29,
   "metadata": {},
   "outputs": [
    {
     "name": "stdout",
     "output_type": "stream",
     "text": [
      "[10 20 30]\n",
      "[10, 20, 30]   =>   <class 'list'>\n",
      "[10 20 30]   =>   <class 'numpy.ndarray'>\n"
     ]
    }
   ],
   "source": [
    "tempList = [10, 20, 30]\n",
    "npArray = np.array(tempList)\n",
    "print(npArray)\n",
    "\n",
    "print(tempList, '  =>  ', type(tempList))\n",
    "print(npArray, '  =>  ', type(npArray))"
   ]
  },
  {
   "cell_type": "markdown",
   "metadata": {},
   "source": [
    "<hr>"
   ]
  },
  {
   "cell_type": "markdown",
   "metadata": {},
   "source": [
    "## How to create a basic array"
   ]
  },
  {
   "cell_type": "markdown",
   "metadata": {},
   "source": [
    "- Create an array filled with 0’s:"
   ]
  },
  {
   "cell_type": "code",
   "execution_count": 189,
   "metadata": {},
   "outputs": [
    {
     "data": {
      "text/plain": [
       "array([0., 0.])"
      ]
     },
     "execution_count": 189,
     "metadata": {},
     "output_type": "execute_result"
    }
   ],
   "source": [
    "np.zeros(2)"
   ]
  },
  {
   "cell_type": "markdown",
   "metadata": {},
   "source": [
    "<br><br>\n",
    "\n",
    "- An array filled with 1’s:"
   ]
  },
  {
   "cell_type": "code",
   "execution_count": 190,
   "metadata": {},
   "outputs": [
    {
     "data": {
      "text/plain": [
       "array([1., 1.])"
      ]
     },
     "execution_count": 190,
     "metadata": {},
     "output_type": "execute_result"
    }
   ],
   "source": [
    "np.ones(2)"
   ]
  },
  {
   "cell_type": "markdown",
   "metadata": {},
   "source": [
    "<br><br>\n",
    "\n",
    "- An empty array! \n",
    "\n",
    "    The function empty creates an array whose initial content is random and depends on the state of the memory. The reason to use empty over zeros (or something similar) is speed - just make sure to fill every element afterwards!"
   ]
  },
  {
   "cell_type": "code",
   "execution_count": 204,
   "metadata": {},
   "outputs": [
    {
     "data": {
      "text/plain": [
       "array([1., 1.])"
      ]
     },
     "execution_count": 204,
     "metadata": {},
     "output_type": "execute_result"
    }
   ],
   "source": [
    "np.empty(2)"
   ]
  },
  {
   "cell_type": "markdown",
   "metadata": {},
   "source": [
    "<br><br>\n",
    "\n",
    "- An array with a range of elements"
   ]
  },
  {
   "cell_type": "code",
   "execution_count": 205,
   "metadata": {},
   "outputs": [
    {
     "data": {
      "text/plain": [
       "array([0, 1, 2, 3])"
      ]
     },
     "execution_count": 205,
     "metadata": {},
     "output_type": "execute_result"
    }
   ],
   "source": [
    "np.arange(4)"
   ]
  },
  {
   "cell_type": "markdown",
   "metadata": {},
   "source": [
    "<br><br>\n",
    "\n",
    "- A range of evenly spaced intervals"
   ]
  },
  {
   "cell_type": "code",
   "execution_count": 206,
   "metadata": {},
   "outputs": [
    {
     "data": {
      "text/plain": [
       "array([ 0,  2,  4,  6,  8, 10, 12, 14, 16, 18])"
      ]
     },
     "execution_count": 206,
     "metadata": {},
     "output_type": "execute_result"
    }
   ],
   "source": [
    "np.arange(0, 20, 2)"
   ]
  },
  {
   "cell_type": "code",
   "execution_count": 211,
   "metadata": {},
   "outputs": [
    {
     "data": {
      "text/plain": [
       "array([0. , 0.3, 0.6, 0.9, 1.2, 1.5, 1.8])"
      ]
     },
     "execution_count": 211,
     "metadata": {},
     "output_type": "execute_result"
    }
   ],
   "source": [
    "np.arange(0, 2, 0.3)  # it accepts float arguments"
   ]
  },
  {
   "cell_type": "markdown",
   "metadata": {},
   "source": [
    "<pre>NOTE:</pre>\n",
    "When arange is used with floating point arguments, it is generally not possible to predict the number of elements obtained, due to the finite floating point precision. <br>\n",
    "For this reason, it is usually better to use the function linspace that receives as an argument the number of elements that we want, instead of the step."
   ]
  },
  {
   "cell_type": "markdown",
   "metadata": {},
   "source": [
    "<br><br>\n",
    "\n",
    "- Create an array with values that are spaced linearly in a specified interval"
   ]
  },
  {
   "cell_type": "code",
   "execution_count": 210,
   "metadata": {},
   "outputs": [
    {
     "data": {
      "text/plain": [
       "array([ 0. ,  2.5,  5. ,  7.5, 10. ])"
      ]
     },
     "execution_count": 210,
     "metadata": {},
     "output_type": "execute_result"
    }
   ],
   "source": [
    "np.linspace(0, 10, num=5)"
   ]
  },
  {
   "cell_type": "markdown",
   "metadata": {},
   "source": [
    "<br><br>\n",
    "Specifying your data type"
   ]
  },
  {
   "cell_type": "markdown",
   "metadata": {},
   "source": [
    "While the default data type is floating point (np.float64), you can explicitly specify which data type you want using the dtype keyword."
   ]
  },
  {
   "cell_type": "code",
   "execution_count": 214,
   "metadata": {},
   "outputs": [
    {
     "data": {
      "text/plain": [
       "array([1, 1], dtype=int64)"
      ]
     },
     "execution_count": 214,
     "metadata": {},
     "output_type": "execute_result"
    }
   ],
   "source": [
    "x = np.ones(2, dtype=np.int64)\n",
    "x"
   ]
  },
  {
   "cell_type": "markdown",
   "metadata": {},
   "source": [
    "## Array attributes"
   ]
  },
  {
   "cell_type": "code",
   "execution_count": 216,
   "metadata": {},
   "outputs": [],
   "source": [
    "x = np.array([[1, 2, 3, 4], [5, 6, 7, 8], [9, 10, 11, 12]])"
   ]
  },
  {
   "cell_type": "markdown",
   "metadata": {},
   "source": [
    "<br>\n",
    "\n",
    "ndim\n",
    "\n",
    "- The number of dimensions of an array is contained in the ndim attribute."
   ]
  },
  {
   "cell_type": "code",
   "execution_count": 221,
   "metadata": {},
   "outputs": [
    {
     "name": "stdout",
     "output_type": "stream",
     "text": [
      "The Dimension is: 2\n"
     ]
    }
   ],
   "source": [
    "print(\"The Dimension is:\", x.ndim)"
   ]
  },
  {
   "cell_type": "markdown",
   "metadata": {},
   "source": [
    "<br>\n",
    "\n",
    "shape\n",
    "\n",
    "- The shape of an array is a tuple of non-negative integers that specify the number of elements along each dimension."
   ]
  },
  {
   "cell_type": "code",
   "execution_count": 224,
   "metadata": {},
   "outputs": [
    {
     "name": "stdout",
     "output_type": "stream",
     "text": [
      "The Shape is: (3, 4)\n"
     ]
    }
   ],
   "source": [
    "print(\"The Shape is:\", x.shape)"
   ]
  },
  {
   "cell_type": "code",
   "execution_count": 222,
   "metadata": {},
   "outputs": [
    {
     "data": {
      "text/plain": [
       "True"
      ]
     },
     "execution_count": 222,
     "metadata": {},
     "output_type": "execute_result"
    }
   ],
   "source": [
    "len(x.shape) == x.ndim"
   ]
  },
  {
   "cell_type": "markdown",
   "metadata": {},
   "source": [
    "<br>\n",
    "\n",
    "size\n",
    "\n",
    "- The fixed, total number of elements in array is contained in the size attribute."
   ]
  },
  {
   "cell_type": "code",
   "execution_count": 225,
   "metadata": {},
   "outputs": [
    {
     "name": "stdout",
     "output_type": "stream",
     "text": [
      "Total elements are: 12\n"
     ]
    }
   ],
   "source": [
    "print(\"Total elements are:\", x.size)"
   ]
  },
  {
   "cell_type": "markdown",
   "metadata": {},
   "source": [
    "<br>\n",
    "\n",
    "dtype\n",
    "\n",
    "- The data type is recorded in the dtype attribute.\n",
    "\n",
    "    Arrays are typically “homogeneous”, meaning that they contain elements of only one “data type”."
   ]
  },
  {
   "cell_type": "code",
   "execution_count": 226,
   "metadata": {},
   "outputs": [
    {
     "name": "stdout",
     "output_type": "stream",
     "text": [
      "The Data Type is: int32\n"
     ]
    }
   ],
   "source": [
    "print(\"The Data Type is:\", x.dtype)"
   ]
  }
 ],
 "metadata": {
  "kernelspec": {
   "display_name": ".venv",
   "language": "python",
   "name": "python3"
  },
  "language_info": {
   "codemirror_mode": {
    "name": "ipython",
    "version": 3
   },
   "file_extension": ".py",
   "mimetype": "text/x-python",
   "name": "python",
   "nbconvert_exporter": "python",
   "pygments_lexer": "ipython3",
   "version": "3.12.2"
  }
 },
 "nbformat": 4,
 "nbformat_minor": 2
}
