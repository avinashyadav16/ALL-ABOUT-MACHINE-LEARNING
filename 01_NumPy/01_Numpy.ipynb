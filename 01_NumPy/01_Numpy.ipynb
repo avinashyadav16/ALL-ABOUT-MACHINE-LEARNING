{
 "cells": [
  {
   "cell_type": "markdown",
   "metadata": {},
   "source": [
    "# <center>NumPy</center>\n"
   ]
  },
  {
   "cell_type": "markdown",
   "metadata": {},
   "source": [
    "### What is NumPy?\n",
    "\n",
    "- NumPy is the fundamental package for scientific computing in Python.\n",
    "- NumPy is a Python library that provides a multidimensional array object, various derived objects\n"
   ]
  },
  {
   "cell_type": "markdown",
   "metadata": {},
   "source": [
    "### What Is NumPy Array?\n",
    "\n",
    "- An array is a grid of values and it contains information about the raw data, how to locate an element, and how to interpret an element.\n",
    "  - 1D Array\n",
    "  - 2D Array\n",
    "  - 3D Array\n",
    "  - Higher-Dimensional Array\n"
   ]
  },
  {
   "cell_type": "markdown",
   "metadata": {},
   "source": [
    "### NumPy vs Python List\n",
    "\n",
    "- Advantages of using Numpy Arrays Over Python Lists:\n",
    "  - consumes less memory.\n",
    "  - fast as compared to the python List.\n",
    "  - convenient to use.\n"
   ]
  },
  {
   "cell_type": "code",
   "execution_count": 1,
   "metadata": {},
   "outputs": [],
   "source": [
    "import numpy as np"
   ]
  },
  {
   "cell_type": "code",
   "execution_count": 2,
   "metadata": {},
   "outputs": [
    {
     "name": "stdout",
     "output_type": "stream",
     "text": [
      "[1 2 3 4]\n",
      "<class 'numpy.ndarray'>\n"
     ]
    }
   ],
   "source": [
    "npArray = np.array([1, 2, 3, 4])\n",
    "print(npArray)\n",
    "\n",
    "print(type(npArray))"
   ]
  },
  {
   "cell_type": "code",
   "execution_count": 3,
   "metadata": {},
   "outputs": [
    {
     "name": "stdout",
     "output_type": "stream",
     "text": [
      "[1, 2, 3, 4]\n",
      "<class 'list'>\n"
     ]
    }
   ],
   "source": [
    "pythonList = [1, 2, 3, 4]\n",
    "print(pythonList)\n",
    "\n",
    "print(type(pythonList))"
   ]
  },
  {
   "cell_type": "markdown",
   "metadata": {},
   "source": [
    "### Difference Between NumPy Array and List in Python\n",
    "\n",
    "- Data types storage\n",
    "- Importing module\n",
    "- Numerical operation\n",
    "- Modification capabilities\n",
    "- Consumes less memory\n",
    "- Fast as compared to the python list\n",
    "- Convenient to use\n"
   ]
  },
  {
   "cell_type": "code",
   "execution_count": 19,
   "metadata": {},
   "outputs": [
    {
     "name": "stdout",
     "output_type": "stream",
     "text": [
      "968 ns ± 18 ns per loop (mean ± std. dev. of 7 runs, 1,000,000 loops each)\n"
     ]
    }
   ],
   "source": [
    "%timeit [i**10 for i in range(1, 11)]"
   ]
  },
  {
   "cell_type": "code",
   "execution_count": 20,
   "metadata": {},
   "outputs": [
    {
     "name": "stdout",
     "output_type": "stream",
     "text": [
      "2.07 µs ± 29.6 ns per loop (mean ± std. dev. of 7 runs, 100,000 loops each)\n"
     ]
    }
   ],
   "source": [
    "%timeit np.arange(1, 11)**10"
   ]
  },
  {
   "cell_type": "markdown",
   "metadata": {},
   "source": [
    "### Importance of NumPy in Python\n",
    "\n",
    "- wide variety of mathematical operations on arrays.\n",
    "- It supplies an enormous library of high-level mathematical functions that operate on these arrays and matrices.\n",
    "- Mathematical, logical, shape manipulation, sorting, selecting, I/O, Discrete Fourier transforms, basic linear algebra, basic statistical operations, random simulation and much more.\n"
   ]
  },
  {
   "cell_type": "markdown",
   "metadata": {},
   "source": [
    "### Creating NumPy Arrays\n",
    "\n",
    "- To create a NumPy array, you can use the function np.array().\n"
   ]
  },
  {
   "cell_type": "code",
   "execution_count": 29,
   "metadata": {},
   "outputs": [
    {
     "name": "stdout",
     "output_type": "stream",
     "text": [
      "[10 20 30]\n",
      "[10, 20, 30]   =>   <class 'list'>\n",
      "[10 20 30]   =>   <class 'numpy.ndarray'>\n"
     ]
    }
   ],
   "source": [
    "tempList = [10, 20, 30]\n",
    "npArray = np.array(tempList)\n",
    "print(npArray)\n",
    "\n",
    "print(tempList, '  =>  ', type(tempList))\n",
    "print(npArray, '  =>  ', type(npArray))"
   ]
  },
  {
   "cell_type": "markdown",
   "metadata": {},
   "source": [
    "###\n",
    "\n",
    "-\n"
   ]
  },
  {
   "cell_type": "markdown",
   "metadata": {},
   "source": [
    "###\n",
    "\n",
    "-\n"
   ]
  }
 ],
 "metadata": {
  "kernelspec": {
   "display_name": ".venv",
   "language": "python",
   "name": "python3"
  },
  "language_info": {
   "codemirror_mode": {
    "name": "ipython",
    "version": 3
   },
   "file_extension": ".py",
   "mimetype": "text/x-python",
   "name": "python",
   "nbconvert_exporter": "python",
   "pygments_lexer": "ipython3",
   "version": "3.12.2"
  }
 },
 "nbformat": 4,
 "nbformat_minor": 2
}
