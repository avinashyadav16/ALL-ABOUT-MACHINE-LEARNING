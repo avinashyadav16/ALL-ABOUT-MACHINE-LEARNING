{
 "cells": [
  {
   "cell_type": "markdown",
   "metadata": {},
   "source": [
    "# Univariate Analysis"
   ]
  },
  {
   "cell_type": "markdown",
   "metadata": {},
   "source": [
    "## Import Libraries"
   ]
  },
  {
   "cell_type": "code",
   "execution_count": 2,
   "metadata": {},
   "outputs": [],
   "source": [
    "import pandas as pd\n",
    "import seaborn as sns\n",
    "import matplotlib.pyplot as plt"
   ]
  },
  {
   "cell_type": "markdown",
   "metadata": {},
   "source": [
    "## Statistical Analysis"
   ]
  },
  {
   "cell_type": "markdown",
   "metadata": {},
   "source": [
    "### Descriptive Statistics"
   ]
  },
  {
   "cell_type": "code",
   "execution_count": null,
   "metadata": {},
   "outputs": [],
   "source": [
    "# Get descriptive statistics\n",
    "print(\"Descriptive Statistics for Age:\")\n",
    "print(df['Age'].describe())\n",
    "\n",
    "print(\"\\nMode of Age:\")\n",
    "print(df['Age'].mode())\n",
    "\n",
    "print(\"\\nMedian of Age:\")\n",
    "print(df['Age'].median())\n",
    "\n",
    "print(\"\\nVariance of Age:\")\n",
    "print(df['Age'].var())\n",
    "\n",
    "print(\"\\nKurtosis of Age:\")\n",
    "print(df['Age'].kurtosis())"
   ]
  },
  {
   "cell_type": "markdown",
   "metadata": {},
   "source": [
    "### Additional Visualizations"
   ]
  },
  {
   "cell_type": "code",
   "execution_count": null,
   "metadata": {},
   "outputs": [],
   "source": [
    "# Create violin plot\n",
    "plt.figure(figsize=(10,6))\n",
    "sns.violinplot(y=df['Age'])\n",
    "plt.title('Distribution of Age (Violin Plot)')\n",
    "plt.show()\n",
    "\n",
    "# Create KDE plot\n",
    "plt.figure(figsize=(10,6))\n",
    "sns.kdeplot(data=df['Age'], fill=True)\n",
    "plt.title('Density Distribution of Age')\n",
    "plt.xlabel('Age')\n",
    "plt.ylabel('Density')\n",
    "plt.show()"
   ]
  },
  {
   "cell_type": "markdown",
   "metadata": {},
   "source": [
    "## Missing Value Analysis"
   ]
  },
  {
   "cell_type": "code",
   "execution_count": null,
   "metadata": {},
   "outputs": [],
   "source": [
    "# Check missing values\n",
    "print(\"Missing Values in Age:\")\n",
    "print(df['Age'].isnull().sum())\n",
    "print(f\"Percentage of Missing Values: {(df['Age'].isnull().sum()/len(df))*100:.2f}%\")"
   ]
  }
 ],
 "metadata": {
  "language_info": {
   "name": "python"
  }
 },
 "nbformat": 4,
 "nbformat_minor": 2
}
